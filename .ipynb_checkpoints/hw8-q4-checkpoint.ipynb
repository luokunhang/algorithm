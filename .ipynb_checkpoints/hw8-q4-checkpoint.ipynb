{
 "cells": [
  {
   "cell_type": "code",
   "execution_count": 1,
   "metadata": {},
   "outputs": [],
   "source": [
    "import numpy as np"
   ]
  },
  {
   "cell_type": "code",
   "execution_count": 2,
   "metadata": {},
   "outputs": [],
   "source": [
    "states = [\"Alabama\",\"Alaska\",\"Arizona\",\"Arkansas\",\"California\",\"Colorado\",\"Connecticut\",\"Delaware\",\"District of Columbia\",\"Florida\",\n",
    "\"Georgia\",\"Hawaii\",\"Idaho\",\"Illinois\",\"Indiana\",\"Iowa\",\"Kansas\",\"Kentucky\",\"Louisiana\",\"Maine\",\"Maryland\",\"Massachusetts\",\n",
    "\"Michigan\",\"Minnesota\",\"Mississippi\",\"Missouri\",\"Montana\",\"Nebraska\",\"Nevada\",\"New Hampshire\",\"New Jersey\",\"New Mexico\",\n",
    "\"New York\",\"North Carolina\",\"North Dakota\",\"Ohio\",\"Oklahoma\",\"Oregon\",\"Pennsylvania\",\"Rhode Island\",\"South Carolina\",\n",
    "\"South Dakota\",\"Tennessee\",\"Texas\",\"Utah\",\"Vermont\",\"Virginia\",\"Washington\",\"West Virginia\",\"Wisconsin\",\"Wyoming\"]\n",
    "votes = [9,3,11,6,55,9,7,3,3,29,16,4,4,20,11,6,6,8,8,4,10,11,16,10,6,10,3,5,6,4,14,5,29,15,3,18,7,7,20,4,9,3,11,38,6,3,13,12,5,10,3]"
   ]
  },
  {
   "cell_type": "code",
   "execution_count": 3,
   "metadata": {
    "scrolled": true
   },
   "outputs": [
    {
     "name": "stdout",
     "output_type": "stream",
     "text": [
      "The total number of ways to achieve tie is 16976480564070.\n"
     ]
    }
   ],
   "source": [
    "#a. use dynamic programming to finds the total number of ways\n",
    "ways = [[0 for i in range(270)] for j in range(51)]\n",
    "for i in range(51):\n",
    "    ways[i][0] = 1\n",
    "ways[0][votes[0]] = 1\n",
    "\n",
    "for i in range(1, 51):\n",
    "    for j in range(1, 270):\n",
    "        p1 = ways[i - 1][j]\n",
    "        p2 = 0\n",
    "        if ((j - votes[i]) >= 0):\n",
    "            p2 = ways[i - 1][j - votes[i]]\n",
    "        ways[i][j] = p1 + p2\n",
    "        \n",
    "print(\"The total number of ways to achieve tie is \" + str(ways[50][269]) + \".\")"
   ]
  },
  {
   "cell_type": "code",
   "execution_count": 4,
   "metadata": {},
   "outputs": [],
   "source": [
    "#Justification for a.\n",
    "#Following the linear programming method, the number of ways to sum to S within n first elements is\n",
    "#the number of ways to sum to S within n-1 first elements(excluding the nth element) plus the number of ways\n",
    "#to sum to S-(nth element) within n-1 first elements(including the nth element).\n",
    "\n",
    "#The algorithm starts with "
   ]
  },
  {
   "cell_type": "code",
   "execution_count": 21,
   "metadata": {
    "scrolled": true
   },
   "outputs": [
    {
     "name": "stdout",
     "output_type": "stream",
     "text": [
      "A way to achieve tie is ['Alabama', 'Alaska', 'Arizona', 'Arkansas', 'California', 'Colorado', 'Connecticut', 'Delaware', 'District of Columbia', 'Florida', 'Georgia', 'Hawaii', 'Idaho', 'Illinois', 'Indiana', 'Iowa', 'Kansas', 'Kentucky', 'Louisiana', 'Maine', 'Maryland', 'Massachusetts', 'Michigan', 'Minnesota'].\n",
      "269\n",
      "{0, 1, 2, 3, 4, 5, 6, 7, 8, 9, 10, 11, 12, 13, 14, 15, 16, 17, 18, 19, 20, 21, 22, 23}\n"
     ]
    }
   ],
   "source": [
    "#b. find a combination\n",
    "subset = [[set() for i in range(270)] for j in range(51)]\n",
    "subset[0][votes[0]] = {0}\n",
    "\n",
    "for i in range(1, 51):\n",
    "    for j in range(1, 270):\n",
    "        p1 = subset[i - 1][j].copy()\n",
    "        p2 = set()\n",
    "        if ((j - votes[i]) >= 0):\n",
    "            p2 = subset[i - 1][j - votes[i]].copy()\n",
    "        if p1:\n",
    "            subset[i][j] = p1\n",
    "        elif p2:\n",
    "            p2.add(i)\n",
    "            subset[i][j] = p2\n",
    "if subset[50][269]:\n",
    "    states_chosen = []\n",
    "    s = 0\n",
    "    for j in subset[50][269]:\n",
    "        states_chosen.append(states[j])\n",
    "        s += votes[j]\n",
    "    print(\"A way to achieve tie is \" + str(states_chosen) + \".\")\n",
    "else:\n",
    "    print(\"Not feasible.\")"
   ]
  },
  {
   "cell_type": "code",
   "execution_count": 108,
   "metadata": {},
   "outputs": [],
   "source": [
    "#Justification for b.\n",
    "#As a modified version of a., the algorithm stores the combination directly in a set. For either comtaining\n",
    "#current element or not, if there exists a solution, or solutions, subset[i, s] is either subset[i-1, s] or\n",
    "#subset[i-1, s-(nth element)] union nth element."
   ]
  },
  {
   "cell_type": "code",
   "execution_count": null,
   "metadata": {},
   "outputs": [],
   "source": [
    "#d. runtime analysis and justification\n",
    "#For dynamic programming in part a and b, the dimension of the 2D array is \n",
    "#number of states(n) * number of total votes(K).\n",
    "#And the algorithm visits every grids once and compare one or two values in other grids, counting up to O(2nK)=O(nK)"
   ]
  }
 ],
 "metadata": {
  "kernelspec": {
   "display_name": "Python 3",
   "language": "python",
   "name": "python3"
  },
  "language_info": {
   "codemirror_mode": {
    "name": "ipython",
    "version": 3
   },
   "file_extension": ".py",
   "mimetype": "text/x-python",
   "name": "python",
   "nbconvert_exporter": "python",
   "pygments_lexer": "ipython3",
   "version": "3.7.3"
  }
 },
 "nbformat": 4,
 "nbformat_minor": 2
}
